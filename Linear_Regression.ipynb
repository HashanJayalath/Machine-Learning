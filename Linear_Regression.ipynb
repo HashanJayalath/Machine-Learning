{
  "nbformat": 4,
  "nbformat_minor": 0,
  "metadata": {
    "colab": {
      "name": "Linear Regression.ipynb",
      "provenance": [],
      "authorship_tag": "ABX9TyN0+NlDOWD1Ft9FHCxBmT4V",
      "include_colab_link": true
    },
    "kernelspec": {
      "name": "python3",
      "display_name": "Python 3"
    },
    "language_info": {
      "name": "python"
    }
  },
  "cells": [
    {
      "cell_type": "markdown",
      "metadata": {
        "id": "view-in-github",
        "colab_type": "text"
      },
      "source": [
        "<a href=\"https://colab.research.google.com/github/HashanJayalath/Machine-Learning/blob/main/Linear_Regression.ipynb\" target=\"_parent\"><img src=\"https://colab.research.google.com/assets/colab-badge.svg\" alt=\"Open In Colab\"/></a>"
      ]
    },
    {
      "cell_type": "code",
      "execution_count": 16,
      "metadata": {
        "id": "oGvzN3aPdrtM"
      },
      "outputs": [],
      "source": [
        "import numpy as np\n",
        "from typing import Tuple\n",
        "\n",
        "def load_dataset(\n",
        ") -> Tuple[np.ndarray, np.ndarray, np.ndarray, np.ndarray, np.ndarray]:\n",
        "    \"\"\"Load the dataset as a set of numpy arrays.\n",
        "    Args:\n",
        "    src_dir: Directory where dataset files are stored.\n",
        "    Returns:\n",
        "      (x_train, y_train, x_val, y_val, x_test) tuple where each array is one dimensional.\n",
        "    \"\"\"\n",
        "    x_train=np.loadtxt('x_train.txt')\n",
        "    y_train=np.loadtxt('y_train.txt')\n",
        "    x_val=np.loadtxt('x_val.txt')\n",
        "    y_val=np.loadtxt('y_val.txt')\n",
        "\n",
        "    output=(x_train,y_train,x_val,y_val)\n",
        "\n",
        "    return output"
      ]
    },
    {
      "cell_type": "code",
      "source": [
        "def get_features(x: np.ndarray, n: int) -> np.ndarray:\n",
        "  \"\"\"Creates n-th degree polynomial features for the given vector x.\n",
        "  Example usage:\n",
        "  get_features(np.array([1.0, 2.0, 3.0]), 3) outputs\n",
        "  np.array([[ 1., 1., 1.],\n",
        "            [ 2., 4., 8.],\n",
        "            [ 3., 9., 27.]])\n",
        "  Args:\n",
        "    x: A numpy array of shape (num_examples, ) or (num_examples, 1).\n",
        "    n: The degree of the polynomial features.\n",
        "  Returns:\n",
        "    A matrix of shape (num_examples, n) where the j-th column is equal to\n",
        "    the vector x raised to the power j (elementwise).\n",
        "  \"\"\"\n",
        "  s=[]\n",
        "  for i in range(1,n+1):\n",
        "    s.append(x**i)\n",
        "  \n",
        "  s=np.array(s)\n",
        "  s=np.transpose(s)\n",
        "  return s\n"
      ],
      "metadata": {
        "id": "6MReqouwKhTA"
      },
      "execution_count": 17,
      "outputs": []
    },
    {
      "cell_type": "code",
      "source": [
        "from sklearn.linear_model import LinearRegression\n",
        "from sklearn.metrics import mean_squared_error\n",
        "\n",
        "def fit_and_evaluate(\n",
        "    x_train: np.ndarray, y_train: np.ndarray,\n",
        "    x_val: np.ndarray, y_val: np.ndarray,\n",
        "    n: int,x_test: np.ndarray\n",
        "    ) -> Tuple[float, float]:\n",
        "  \"\"\"Fits an n-th degree polynomial and outputs train and validation MSE.\n",
        "  Fits a linear regression model y = sum_{i=1}^n w_i x^i to the given train\n",
        "  set and outputs the mean-squared-error (MSE) on train and validation sets.\n",
        "  Args:\n",
        "    x_train: Input features for the train set. Has shape (num_train, )\n",
        "    y_train: Targets (labels) for the train set. Has shape (num_train, )\n",
        "    x_val: Input features for the validation set. Has shape (num_val, )\n",
        "    y_val: Targets (labels) for the validation set. Has shape (num_val, )\n",
        "    n: The degree of the polynomial fit. See the above equation.\n",
        "  Returns:\n",
        "    (train_mse, val_mse), tuple of MSE on train and validation sets.\n",
        "  \"\"\"\n",
        "  # Fit the model on the train set.\n",
        "  features=get_features(x_train,n)\n",
        "  w=LinearRegression().fit(features, y_train)\n",
        " \n",
        "  # Generate model predictions for the train set and calculate the MSE.\n",
        "  y_predict_train = w.predict(features)\n",
        "  train_mse = mean_squared_error(y_train, y_predict_train)\n",
        "\n",
        "  # Similarly, calculate the MSE on the val set.\n",
        "  features_val=get_features(x_val,n)\n",
        "  y_predict_val=w.predict(features_val)\n",
        "\n",
        "  # Generate model predictions for x_text.txt\n",
        "  features_test=get_features(x_test,n)\n",
        "  y_predict_test=w.predict(features_test)\n",
        "\n",
        "  #print(x_train)\n",
        "\n",
        "  #print(y_predict_test)\n",
        "\n",
        "  a_file = open(\"test.txt\", \"w\")\n",
        "  #for row in y_predict_test:\n",
        "    #print(row)\n",
        "  np.savetxt(a_file,y_predict_test)\n",
        "\n",
        "  a_file.close()\n",
        "  \n",
        "\n",
        "\n",
        "  val_mse = mean_squared_error(y_val, y_predict_val)\n",
        "\n",
        "  return train_mse, val_mse"
      ],
      "metadata": {
        "id": "HJoTqCZwKwfX"
      },
      "execution_count": 22,
      "outputs": []
    },
    {
      "cell_type": "code",
      "source": [
        "from matplotlib import pyplot as plt\n",
        "\n",
        "output=load_dataset()\n",
        "x_axis=[1,2,3,4,5,6,7,8]\n",
        "mse_train=[]\n",
        "mse_val=[]\n",
        "for n in range(1,9):\n",
        "  l=fit_and_evaluate(output[0],output[1],output[2],output[3],n,np.loadtxt(\"x_test.txt\"))\n",
        "  mse_train.append(l[0])\n",
        "  mse_val.append(l[1])\n",
        "\n",
        "plt.scatter(x_axis, mse_train)\n",
        "plt.plot(x_axis, mse_train)\n",
        "\n",
        "plt.scatter(x_axis, mse_val)\n",
        "plt.plot(x_axis, mse_val)\n",
        "\n",
        "plt.xlabel(\"n\")\n",
        "plt.ylabel(\"mse\")\n",
        "plt.legend([\"Train\", \"Validation\"])\n",
        "plt.show()\n",
        "\n",
        "\n",
        "print(min(mse_val))\n",
        "print(mse_val.index(min(mse_val)))"
      ],
      "metadata": {
        "colab": {
          "base_uri": "https://localhost:8080/",
          "height": 314
        },
        "id": "uqLUgYDbsWtS",
        "outputId": "1a85811b-ba20-468d-97a4-b21158beacc4"
      },
      "execution_count": 27,
      "outputs": [
        {
          "output_type": "display_data",
          "data": {
            "image/png": "[encoded data removed]",
            "text/plain": [
              "<Figure size 432x288 with 1 Axes>"
            ]
          },
          "metadata": {
            "needs_background": "light"
          }
        },
        {
          "output_type": "stream",
          "name": "stdout",
          "text": [
            "0.003744588228404576\n",
            "5\n"
          ]
        }
      ]
    },
    {
      "cell_type": "markdown",
      "source": [
        "## **Predicting**"
      ],
      "metadata": {
        "id": "L_wq1to279hE"
      }
    },
    {
      "cell_type": "code",
      "source": [
        "fit_and_evaluate(output[0],output[1],output[2],output[3],6,np.loadtxt('x_test.txt'))"
      ],
      "metadata": {
        "colab": {
          "base_uri": "https://localhost:8080/"
        },
        "id": "ArjmQ9TX79DT",
        "outputId": "5e52fd33-5c16-43d8-bfe6-70cf5badf147"
      },
      "execution_count": null,
      "outputs": [
        {
          "output_type": "execute_result",
          "data": {
            "text/plain": [
              "(0.0010010576027579198, 0.003744588228404576)"
            ]
          },
          "metadata": {},
          "execution_count": 38
        }
      ]
    }
  ]
}